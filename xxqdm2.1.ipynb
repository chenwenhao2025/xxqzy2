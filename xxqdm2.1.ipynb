{
 "cells": [
  {
   "cell_type": "code",
   "execution_count": 1,
   "id": "f3e88e08",
   "metadata": {},
   "outputs": [
    {
     "data": {
      "application/vnd.microsoft.datawrangler.viewer.v0+json": {
       "columns": [
        {
         "name": "index",
         "rawType": "int64",
         "type": "integer"
        },
        {
         "name": "City Name",
         "rawType": "object",
         "type": "string"
        },
        {
         "name": "Type",
         "rawType": "object",
         "type": "unknown"
        },
        {
         "name": "Package",
         "rawType": "object",
         "type": "string"
        },
        {
         "name": "Variety",
         "rawType": "object",
         "type": "unknown"
        },
        {
         "name": "Sub Variety",
         "rawType": "object",
         "type": "unknown"
        },
        {
         "name": "Grade",
         "rawType": "float64",
         "type": "float"
        },
        {
         "name": "Date",
         "rawType": "object",
         "type": "string"
        },
        {
         "name": "Low Price",
         "rawType": "float64",
         "type": "float"
        },
        {
         "name": "High Price",
         "rawType": "float64",
         "type": "float"
        },
        {
         "name": "Mostly Low",
         "rawType": "float64",
         "type": "float"
        },
        {
         "name": "Mostly High",
         "rawType": "float64",
         "type": "float"
        },
        {
         "name": "Origin",
         "rawType": "object",
         "type": "string"
        },
        {
         "name": "Origin District",
         "rawType": "object",
         "type": "unknown"
        },
        {
         "name": "Item Size",
         "rawType": "object",
         "type": "string"
        },
        {
         "name": "Color",
         "rawType": "object",
         "type": "unknown"
        },
        {
         "name": "Environment",
         "rawType": "float64",
         "type": "float"
        },
        {
         "name": "Unit of Sale",
         "rawType": "object",
         "type": "unknown"
        },
        {
         "name": "Quality",
         "rawType": "float64",
         "type": "float"
        },
        {
         "name": "Condition",
         "rawType": "float64",
         "type": "float"
        },
        {
         "name": "Appearance",
         "rawType": "float64",
         "type": "float"
        },
        {
         "name": "Storage",
         "rawType": "float64",
         "type": "float"
        },
        {
         "name": "Crop",
         "rawType": "float64",
         "type": "float"
        },
        {
         "name": "Repack",
         "rawType": "object",
         "type": "string"
        },
        {
         "name": "Trans Mode",
         "rawType": "float64",
         "type": "float"
        },
        {
         "name": "Unnamed: 24",
         "rawType": "float64",
         "type": "float"
        },
        {
         "name": "Unnamed: 25",
         "rawType": "object",
         "type": "unknown"
        }
       ],
       "ref": "feca9ca1-9944-4993-9dd9-2fe9cb62b51a",
       "rows": [
        [
         "0",
         "BALTIMORE",
         null,
         "24 inch bins",
         null,
         null,
         null,
         "4/29/17",
         "270.0",
         "280.0",
         "270.0",
         "280.0",
         "MARYLAND",
         null,
         "lge",
         null,
         null,
         null,
         null,
         null,
         null,
         null,
         null,
         "E",
         null,
         null,
         null
        ],
        [
         "1",
         "BALTIMORE",
         null,
         "24 inch bins",
         null,
         null,
         null,
         "5/6/17",
         "270.0",
         "280.0",
         "270.0",
         "280.0",
         "MARYLAND",
         null,
         "lge",
         null,
         null,
         null,
         null,
         null,
         null,
         null,
         null,
         "E",
         null,
         null,
         null
        ],
        [
         "2",
         "BALTIMORE",
         null,
         "24 inch bins",
         "HOWDEN TYPE",
         null,
         null,
         "9/24/16",
         "160.0",
         "160.0",
         "160.0",
         "160.0",
         "DELAWARE",
         null,
         "med",
         "ORANGE",
         null,
         null,
         null,
         null,
         null,
         null,
         null,
         "N",
         null,
         null,
         null
        ],
        [
         "3",
         "BALTIMORE",
         null,
         "24 inch bins",
         "HOWDEN TYPE",
         null,
         null,
         "9/24/16",
         "160.0",
         "160.0",
         "160.0",
         "160.0",
         "VIRGINIA",
         null,
         "med",
         "ORANGE",
         null,
         null,
         null,
         null,
         null,
         null,
         null,
         "N",
         null,
         null,
         null
        ],
        [
         "4",
         "BALTIMORE",
         null,
         "24 inch bins",
         "HOWDEN TYPE",
         null,
         null,
         "11/5/16",
         "90.0",
         "100.0",
         "90.0",
         "100.0",
         "MARYLAND",
         null,
         "lge",
         "ORANGE",
         null,
         null,
         null,
         null,
         null,
         null,
         null,
         "N",
         null,
         null,
         null
        ]
       ],
       "shape": {
        "columns": 26,
        "rows": 5
       }
      },
      "text/html": [
       "<div>\n",
       "<style scoped>\n",
       "    .dataframe tbody tr th:only-of-type {\n",
       "        vertical-align: middle;\n",
       "    }\n",
       "\n",
       "    .dataframe tbody tr th {\n",
       "        vertical-align: top;\n",
       "    }\n",
       "\n",
       "    .dataframe thead th {\n",
       "        text-align: right;\n",
       "    }\n",
       "</style>\n",
       "<table border=\"1\" class=\"dataframe\">\n",
       "  <thead>\n",
       "    <tr style=\"text-align: right;\">\n",
       "      <th></th>\n",
       "      <th>City Name</th>\n",
       "      <th>Type</th>\n",
       "      <th>Package</th>\n",
       "      <th>Variety</th>\n",
       "      <th>Sub Variety</th>\n",
       "      <th>Grade</th>\n",
       "      <th>Date</th>\n",
       "      <th>Low Price</th>\n",
       "      <th>High Price</th>\n",
       "      <th>Mostly Low</th>\n",
       "      <th>...</th>\n",
       "      <th>Unit of Sale</th>\n",
       "      <th>Quality</th>\n",
       "      <th>Condition</th>\n",
       "      <th>Appearance</th>\n",
       "      <th>Storage</th>\n",
       "      <th>Crop</th>\n",
       "      <th>Repack</th>\n",
       "      <th>Trans Mode</th>\n",
       "      <th>Unnamed: 24</th>\n",
       "      <th>Unnamed: 25</th>\n",
       "    </tr>\n",
       "  </thead>\n",
       "  <tbody>\n",
       "    <tr>\n",
       "      <th>0</th>\n",
       "      <td>BALTIMORE</td>\n",
       "      <td>NaN</td>\n",
       "      <td>24 inch bins</td>\n",
       "      <td>NaN</td>\n",
       "      <td>NaN</td>\n",
       "      <td>NaN</td>\n",
       "      <td>4/29/17</td>\n",
       "      <td>270.0</td>\n",
       "      <td>280.0</td>\n",
       "      <td>270.0</td>\n",
       "      <td>...</td>\n",
       "      <td>NaN</td>\n",
       "      <td>NaN</td>\n",
       "      <td>NaN</td>\n",
       "      <td>NaN</td>\n",
       "      <td>NaN</td>\n",
       "      <td>NaN</td>\n",
       "      <td>E</td>\n",
       "      <td>NaN</td>\n",
       "      <td>NaN</td>\n",
       "      <td>NaN</td>\n",
       "    </tr>\n",
       "    <tr>\n",
       "      <th>1</th>\n",
       "      <td>BALTIMORE</td>\n",
       "      <td>NaN</td>\n",
       "      <td>24 inch bins</td>\n",
       "      <td>NaN</td>\n",
       "      <td>NaN</td>\n",
       "      <td>NaN</td>\n",
       "      <td>5/6/17</td>\n",
       "      <td>270.0</td>\n",
       "      <td>280.0</td>\n",
       "      <td>270.0</td>\n",
       "      <td>...</td>\n",
       "      <td>NaN</td>\n",
       "      <td>NaN</td>\n",
       "      <td>NaN</td>\n",
       "      <td>NaN</td>\n",
       "      <td>NaN</td>\n",
       "      <td>NaN</td>\n",
       "      <td>E</td>\n",
       "      <td>NaN</td>\n",
       "      <td>NaN</td>\n",
       "      <td>NaN</td>\n",
       "    </tr>\n",
       "    <tr>\n",
       "      <th>2</th>\n",
       "      <td>BALTIMORE</td>\n",
       "      <td>NaN</td>\n",
       "      <td>24 inch bins</td>\n",
       "      <td>HOWDEN TYPE</td>\n",
       "      <td>NaN</td>\n",
       "      <td>NaN</td>\n",
       "      <td>9/24/16</td>\n",
       "      <td>160.0</td>\n",
       "      <td>160.0</td>\n",
       "      <td>160.0</td>\n",
       "      <td>...</td>\n",
       "      <td>NaN</td>\n",
       "      <td>NaN</td>\n",
       "      <td>NaN</td>\n",
       "      <td>NaN</td>\n",
       "      <td>NaN</td>\n",
       "      <td>NaN</td>\n",
       "      <td>N</td>\n",
       "      <td>NaN</td>\n",
       "      <td>NaN</td>\n",
       "      <td>NaN</td>\n",
       "    </tr>\n",
       "    <tr>\n",
       "      <th>3</th>\n",
       "      <td>BALTIMORE</td>\n",
       "      <td>NaN</td>\n",
       "      <td>24 inch bins</td>\n",
       "      <td>HOWDEN TYPE</td>\n",
       "      <td>NaN</td>\n",
       "      <td>NaN</td>\n",
       "      <td>9/24/16</td>\n",
       "      <td>160.0</td>\n",
       "      <td>160.0</td>\n",
       "      <td>160.0</td>\n",
       "      <td>...</td>\n",
       "      <td>NaN</td>\n",
       "      <td>NaN</td>\n",
       "      <td>NaN</td>\n",
       "      <td>NaN</td>\n",
       "      <td>NaN</td>\n",
       "      <td>NaN</td>\n",
       "      <td>N</td>\n",
       "      <td>NaN</td>\n",
       "      <td>NaN</td>\n",
       "      <td>NaN</td>\n",
       "    </tr>\n",
       "    <tr>\n",
       "      <th>4</th>\n",
       "      <td>BALTIMORE</td>\n",
       "      <td>NaN</td>\n",
       "      <td>24 inch bins</td>\n",
       "      <td>HOWDEN TYPE</td>\n",
       "      <td>NaN</td>\n",
       "      <td>NaN</td>\n",
       "      <td>11/5/16</td>\n",
       "      <td>90.0</td>\n",
       "      <td>100.0</td>\n",
       "      <td>90.0</td>\n",
       "      <td>...</td>\n",
       "      <td>NaN</td>\n",
       "      <td>NaN</td>\n",
       "      <td>NaN</td>\n",
       "      <td>NaN</td>\n",
       "      <td>NaN</td>\n",
       "      <td>NaN</td>\n",
       "      <td>N</td>\n",
       "      <td>NaN</td>\n",
       "      <td>NaN</td>\n",
       "      <td>NaN</td>\n",
       "    </tr>\n",
       "  </tbody>\n",
       "</table>\n",
       "<p>5 rows × 26 columns</p>\n",
       "</div>"
      ],
      "text/plain": [
       "   City Name Type       Package      Variety Sub Variety  Grade     Date  \\\n",
       "0  BALTIMORE  NaN  24 inch bins          NaN         NaN    NaN  4/29/17   \n",
       "1  BALTIMORE  NaN  24 inch bins          NaN         NaN    NaN   5/6/17   \n",
       "2  BALTIMORE  NaN  24 inch bins  HOWDEN TYPE         NaN    NaN  9/24/16   \n",
       "3  BALTIMORE  NaN  24 inch bins  HOWDEN TYPE         NaN    NaN  9/24/16   \n",
       "4  BALTIMORE  NaN  24 inch bins  HOWDEN TYPE         NaN    NaN  11/5/16   \n",
       "\n",
       "   Low Price  High Price  Mostly Low  ...  Unit of Sale Quality Condition  \\\n",
       "0      270.0       280.0       270.0  ...           NaN     NaN       NaN   \n",
       "1      270.0       280.0       270.0  ...           NaN     NaN       NaN   \n",
       "2      160.0       160.0       160.0  ...           NaN     NaN       NaN   \n",
       "3      160.0       160.0       160.0  ...           NaN     NaN       NaN   \n",
       "4       90.0       100.0        90.0  ...           NaN     NaN       NaN   \n",
       "\n",
       "  Appearance Storage  Crop Repack  Trans Mode  Unnamed: 24  Unnamed: 25  \n",
       "0        NaN     NaN   NaN      E         NaN          NaN          NaN  \n",
       "1        NaN     NaN   NaN      E         NaN          NaN          NaN  \n",
       "2        NaN     NaN   NaN      N         NaN          NaN          NaN  \n",
       "3        NaN     NaN   NaN      N         NaN          NaN          NaN  \n",
       "4        NaN     NaN   NaN      N         NaN          NaN          NaN  \n",
       "\n",
       "[5 rows x 26 columns]"
      ]
     },
     "execution_count": 1,
     "metadata": {},
     "output_type": "execute_result"
    }
   ],
   "source": [
    "# 1. 导入库及读取数据\n",
    "import matplotlib.pyplot as plt\n",
    "import pandas as pd\n",
    "import seaborn as sns\n",
    "import numpy as np\n",
    "import warnings\n",
    "\n",
    "warnings.filterwarnings('ignore')\n",
    "# 解决中文显示问题\n",
    "plt.rcParams['font.sans-serif'] = ['SimHei']  # Windows系统黑体\n",
    "plt.rcParams['axes.unicode_minus'] = False    # 修复负号显示\n",
    "\n",
    "df = pd.read_csv(\"US-pumpkins.csv\")  # 以pandas库的read_csv函数读取csv文件\n",
    "df.head()  # 查看前5行数据"
   ]
  },
  {
   "cell_type": "code",
   "execution_count": 2,
   "id": "deb62227",
   "metadata": {},
   "outputs": [
    {
     "name": "stdout",
     "output_type": "stream",
     "text": [
      "<class 'pandas.core.frame.DataFrame'>\n",
      "RangeIndex: 1757 entries, 0 to 1756\n",
      "Data columns (total 26 columns):\n",
      " #   Column           Non-Null Count  Dtype  \n",
      "---  ------           --------------  -----  \n",
      " 0   City Name        1757 non-null   object \n",
      " 1   Type             45 non-null     object \n",
      " 2   Package          1757 non-null   object \n",
      " 3   Variety          1752 non-null   object \n",
      " 4   Sub Variety      296 non-null    object \n",
      " 5   Grade            0 non-null      float64\n",
      " 6   Date             1757 non-null   object \n",
      " 7   Low Price        1757 non-null   float64\n",
      " 8   High Price       1757 non-null   float64\n",
      " 9   Mostly Low       1654 non-null   float64\n",
      " 10  Mostly High      1654 non-null   float64\n",
      " 11  Origin           1754 non-null   object \n",
      " 12  Origin District  131 non-null    object \n",
      " 13  Item Size        1478 non-null   object \n",
      " 14  Color            1141 non-null   object \n",
      " 15  Environment      0 non-null      float64\n",
      " 16  Unit of Sale     162 non-null    object \n",
      " 17  Quality          0 non-null      float64\n",
      " 18  Condition        0 non-null      float64\n",
      " 19  Appearance       0 non-null      float64\n",
      " 20  Storage          0 non-null      float64\n",
      " 21  Crop             0 non-null      float64\n",
      " 22  Repack           1757 non-null   object \n",
      " 23  Trans Mode       0 non-null      float64\n",
      " 24  Unnamed: 24      0 non-null      float64\n",
      " 25  Unnamed: 25      103 non-null    object \n",
      "dtypes: float64(13), object(13)\n",
      "memory usage: 357.0+ KB\n"
     ]
    }
   ],
   "source": [
    "# 2. 数据基本信息\n",
    "df.info()"
   ]
  },
  {
   "cell_type": "code",
   "execution_count": 3,
   "id": "06aba8de",
   "metadata": {},
   "outputs": [
    {
     "data": {
      "application/vnd.microsoft.datawrangler.viewer.v0+json": {
       "columns": [
        {
         "name": "index",
         "rawType": "object",
         "type": "string"
        },
        {
         "name": "0",
         "rawType": "int64",
         "type": "integer"
        }
       ],
       "ref": "35b00bd1-511b-462f-9b77-3e6246ed4c71",
       "rows": [
        [
         "City Name",
         "0"
        ],
        [
         "Type",
         "1712"
        ],
        [
         "Package",
         "0"
        ],
        [
         "Variety",
         "5"
        ],
        [
         "Sub Variety",
         "1461"
        ],
        [
         "Grade",
         "1757"
        ],
        [
         "Date",
         "0"
        ],
        [
         "Low Price",
         "0"
        ],
        [
         "High Price",
         "0"
        ],
        [
         "Mostly Low",
         "103"
        ],
        [
         "Mostly High",
         "103"
        ],
        [
         "Origin",
         "3"
        ],
        [
         "Origin District",
         "1626"
        ],
        [
         "Item Size",
         "279"
        ],
        [
         "Color",
         "616"
        ],
        [
         "Environment",
         "1757"
        ],
        [
         "Unit of Sale",
         "1595"
        ],
        [
         "Quality",
         "1757"
        ],
        [
         "Condition",
         "1757"
        ],
        [
         "Appearance",
         "1757"
        ],
        [
         "Storage",
         "1757"
        ],
        [
         "Crop",
         "1757"
        ],
        [
         "Repack",
         "0"
        ],
        [
         "Trans Mode",
         "1757"
        ],
        [
         "Unnamed: 24",
         "1757"
        ],
        [
         "Unnamed: 25",
         "1654"
        ]
       ],
       "shape": {
        "columns": 1,
        "rows": 26
       }
      },
      "text/plain": [
       "City Name             0\n",
       "Type               1712\n",
       "Package               0\n",
       "Variety               5\n",
       "Sub Variety        1461\n",
       "Grade              1757\n",
       "Date                  0\n",
       "Low Price             0\n",
       "High Price            0\n",
       "Mostly Low          103\n",
       "Mostly High         103\n",
       "Origin                3\n",
       "Origin District    1626\n",
       "Item Size           279\n",
       "Color               616\n",
       "Environment        1757\n",
       "Unit of Sale       1595\n",
       "Quality            1757\n",
       "Condition          1757\n",
       "Appearance         1757\n",
       "Storage            1757\n",
       "Crop               1757\n",
       "Repack                0\n",
       "Trans Mode         1757\n",
       "Unnamed: 24        1757\n",
       "Unnamed: 25        1654\n",
       "dtype: int64"
      ]
     },
     "execution_count": 3,
     "metadata": {},
     "output_type": "execute_result"
    }
   ],
   "source": [
    "# 3.缺失值检查\n",
    "df.isnull().sum()"
   ]
  },
  {
   "cell_type": "code",
   "execution_count": 4,
   "id": "1c8e731e",
   "metadata": {},
   "outputs": [
    {
     "name": "stdout",
     "output_type": "stream",
     "text": [
      "False\n",
      "{'bushel baskets', '22 lb cartons', '1 1/9 bushel cartons', '50 lb sacks', '36 inch bins', '1 1/9 bushel crates', '24 inch bins', '1/2 bushel cartons', 'bushel cartons', '20 lb cartons', '50 lb cartons', 'each', '35 lb cartons', 'bins', '40 lb cartons'}\n"
     ]
    }
   ],
   "source": [
    "# 4.一致性检查\n",
    "# 发现南瓜的包装方式（称量单位）不统一\n",
    "print(df[\"Package\"].is_unique)    # False\n",
    "print(set(df[\"Package\"].tolist()))"
   ]
  },
  {
   "cell_type": "code",
   "execution_count": 5,
   "id": "82c032b8",
   "metadata": {},
   "outputs": [
    {
     "name": "stdout",
     "output_type": "stream",
     "text": [
      "1757\n",
      "      Date  City Name      Variety       Package  Low Price  High Price\n",
      "0  4/29/17  BALTIMORE          NaN  24 inch bins      270.0       280.0\n",
      "1   5/6/17  BALTIMORE          NaN  24 inch bins      270.0       280.0\n",
      "2  9/24/16  BALTIMORE  HOWDEN TYPE  24 inch bins      160.0       160.0\n",
      "3  9/24/16  BALTIMORE  HOWDEN TYPE  24 inch bins      160.0       160.0\n",
      "4  11/5/16  BALTIMORE  HOWDEN TYPE  24 inch bins       90.0       100.0\n"
     ]
    }
   ],
   "source": [
    "# 提取本次研究所需要的有价值的特征和标签\n",
    "features = ['Date', 'City Name', 'Variety', 'Package', 'Low Price', 'High Price']\n",
    "data = df[features]\n",
    "print(len(data))    # 1757\n",
    "print(data.head().to_string())"
   ]
  },
  {
   "cell_type": "code",
   "execution_count": 6,
   "id": "57a50d80",
   "metadata": {},
   "outputs": [
    {
     "name": "stdout",
     "output_type": "stream",
     "text": [
      "1752\n"
     ]
    }
   ],
   "source": [
    "# 5.过滤缺失值\n",
    "# 过滤含有空值的数据\n",
    "data.dropna(axis=0, how='any', inplace=True)\n",
    "print(len(data))     # 1752"
   ]
  },
  {
   "cell_type": "code",
   "execution_count": 7,
   "id": "2d6284e2",
   "metadata": {},
   "outputs": [
    {
     "name": "stdout",
     "output_type": "stream",
     "text": [
      "415\n",
      "       Date  City Name   Variety               Package  Low Price  High Price\n",
      "70  9/24/16  BALTIMORE  PIE TYPE  1 1/9 bushel cartons       15.0        15.0\n",
      "71  9/24/16  BALTIMORE  PIE TYPE  1 1/9 bushel cartons       18.0        18.0\n",
      "72  10/1/16  BALTIMORE  PIE TYPE  1 1/9 bushel cartons       18.0        18.0\n",
      "73  10/1/16  BALTIMORE  PIE TYPE  1 1/9 bushel cartons       17.0        17.0\n",
      "74  10/8/16  BALTIMORE  PIE TYPE  1 1/9 bushel cartons       15.0        15.0\n"
     ]
    }
   ],
   "source": [
    "# 过滤“蒲式耳”单位称量的南瓜数据\n",
    "data = data[data['Package'].str.contains('bushel', case=True, regex=True)]\n",
    "print(len(data))     # 415\n",
    "print(data.head().to_string())"
   ]
  },
  {
   "cell_type": "code",
   "execution_count": 8,
   "id": "5c00efdc",
   "metadata": {},
   "outputs": [
    {
     "name": "stdout",
     "output_type": "stream",
     "text": [
      "       Date  City Name   Variety               Package  Low Price  High Price  Month\n",
      "70  9/24/16  BALTIMORE  PIE TYPE  1 1/9 bushel cartons       15.0        15.0      9\n",
      "71  9/24/16  BALTIMORE  PIE TYPE  1 1/9 bushel cartons       18.0        18.0      9\n",
      "72  10/1/16  BALTIMORE  PIE TYPE  1 1/9 bushel cartons       18.0        18.0     10\n",
      "73  10/1/16  BALTIMORE  PIE TYPE  1 1/9 bushel cartons       17.0        17.0     10\n",
      "74  10/8/16  BALTIMORE  PIE TYPE  1 1/9 bushel cartons       15.0        15.0     10\n",
      "       Date  City Name   Variety               Package  Low Price  High Price  Month  DayOfYear\n",
      "70  9/24/16  BALTIMORE  PIE TYPE  1 1/9 bushel cartons       15.0        15.0      9        268\n",
      "71  9/24/16  BALTIMORE  PIE TYPE  1 1/9 bushel cartons       18.0        18.0      9        268\n",
      "72  10/1/16  BALTIMORE  PIE TYPE  1 1/9 bushel cartons       18.0        18.0     10        275\n",
      "73  10/1/16  BALTIMORE  PIE TYPE  1 1/9 bushel cartons       17.0        17.0     10        275\n",
      "74  10/8/16  BALTIMORE  PIE TYPE  1 1/9 bushel cartons       15.0        15.0     10        282\n",
      "       Date  City Name   Variety               Package  Low Price  High Price  Month  DayOfYear  Price\n",
      "70  9/24/16  BALTIMORE  PIE TYPE  1 1/9 bushel cartons       15.0        15.0      9        268   15.0\n",
      "71  9/24/16  BALTIMORE  PIE TYPE  1 1/9 bushel cartons       18.0        18.0      9        268   18.0\n",
      "72  10/1/16  BALTIMORE  PIE TYPE  1 1/9 bushel cartons       18.0        18.0     10        275   18.0\n",
      "73  10/1/16  BALTIMORE  PIE TYPE  1 1/9 bushel cartons       17.0        17.0     10        275   17.0\n",
      "74  10/8/16  BALTIMORE  PIE TYPE  1 1/9 bushel cartons       15.0        15.0     10        282   15.0\n"
     ]
    }
   ],
   "source": [
    "# 6.数据提取与转化\n",
    "# 提取月份\n",
    "data['Month'] = data['Date'].apply(lambda dt: pd.to_datetime(dt).month)\n",
    "print(data.head().to_string())\n",
    "\n",
    "# 销售日期转化为该年中的第几天\n",
    "data['DayOfYear'] = data['Date'].apply(lambda dt: pd.to_datetime(dt).timetuple().tm_yday)\n",
    "print(data.head().to_string())\n",
    "\n",
    "# 计算南瓜的平均价格作为标签\n",
    "data['Price'] = (data['Low Price'] + data['High Price']) / 2\n",
    "print(data.head().to_string())"
   ]
  },
  {
   "cell_type": "code",
   "execution_count": 9,
   "id": "d147cf87",
   "metadata": {},
   "outputs": [
    {
     "name": "stdout",
     "output_type": "stream",
     "text": [
      "         Date  City Name    Variety               Package  Low Price  High Price  Month  DayOfYear   Price\n",
      "70    9/24/16  BALTIMORE   PIE TYPE  1 1/9 bushel cartons       15.0        15.0      9        268  13.500\n",
      "71    9/24/16  BALTIMORE   PIE TYPE  1 1/9 bushel cartons       18.0        18.0      9        268  16.200\n",
      "72    10/1/16  BALTIMORE   PIE TYPE  1 1/9 bushel cartons       18.0        18.0     10        275  16.200\n",
      "73    10/1/16  BALTIMORE   PIE TYPE  1 1/9 bushel cartons       17.0        17.0     10        275  15.300\n",
      "74    10/8/16  BALTIMORE   PIE TYPE  1 1/9 bushel cartons       15.0        15.0     10        282  13.500\n",
      "75    10/8/16  BALTIMORE   PIE TYPE  1 1/9 bushel cartons       18.0        18.0     10        282  16.200\n",
      "76    10/8/16  BALTIMORE   PIE TYPE  1 1/9 bushel cartons       17.0        17.0     10        282  15.300\n",
      "77    10/8/16  BALTIMORE   PIE TYPE  1 1/9 bushel cartons       17.0        18.5     10        282  15.975\n",
      "78   10/15/16  BALTIMORE   PIE TYPE  1 1/9 bushel cartons       15.0        15.0     10        289  13.500\n",
      "79   10/15/16  BALTIMORE   PIE TYPE  1 1/9 bushel cartons       17.0        17.0     10        289  15.300\n",
      "80   10/15/16  BALTIMORE   PIE TYPE  1 1/9 bushel cartons       17.0        18.5     10        289  15.975\n",
      "81   10/22/16  BALTIMORE   PIE TYPE  1 1/9 bushel cartons       15.0        15.0     10        296  13.500\n",
      "82   10/22/16  BALTIMORE   PIE TYPE  1 1/9 bushel cartons       17.0        17.0     10        296  15.300\n",
      "83   10/22/16  BALTIMORE   PIE TYPE  1 1/9 bushel cartons       17.0        18.5     10        296  15.975\n",
      "84   10/29/16  BALTIMORE   PIE TYPE  1 1/9 bushel cartons       15.0        15.0     10        303  13.500\n",
      "85   10/29/16  BALTIMORE   PIE TYPE  1 1/9 bushel cartons       16.0        17.0     10        303  14.850\n",
      "86   10/29/16  BALTIMORE   PIE TYPE  1 1/9 bushel cartons       16.0        18.0     10        303  15.300\n",
      "87    9/16/17  BALTIMORE   PIE TYPE  1 1/9 bushel cartons       18.0        18.0      9        259  16.200\n",
      "88    9/23/17  BALTIMORE   PIE TYPE  1 1/9 bushel cartons       16.0        16.0      9        266  14.400\n",
      "89    9/23/17  BALTIMORE   PIE TYPE  1 1/9 bushel cartons       18.0        18.0      9        266  16.200\n",
      "90    9/23/17  BALTIMORE   PIE TYPE  1 1/9 bushel cartons       16.0        16.0      9        266  14.400\n",
      "91    9/30/17  BALTIMORE   PIE TYPE  1 1/9 bushel cartons       16.0        16.0      9        273  14.400\n",
      "92    9/30/17  BALTIMORE   PIE TYPE  1 1/9 bushel cartons       16.0        16.0      9        273  14.400\n",
      "123   9/24/16  BALTIMORE  MINIATURE    1/2 bushel cartons       18.0        18.0      9        268  36.000\n",
      "124   9/24/16  BALTIMORE  MINIATURE    1/2 bushel cartons       15.0        15.0      9        268  30.000\n",
      "125   10/1/16  BALTIMORE  MINIATURE    1/2 bushel cartons       18.0        18.0     10        275  36.000\n",
      "126   10/1/16  BALTIMORE  MINIATURE    1/2 bushel cartons       15.0        15.0     10        275  30.000\n",
      "127   10/1/16  BALTIMORE  MINIATURE    1/2 bushel cartons       17.0        17.0     10        275  34.000\n",
      "128   10/8/16  BALTIMORE  MINIATURE    1/2 bushel cartons       15.0        15.0     10        282  30.000\n",
      "129   10/8/16  BALTIMORE  MINIATURE    1/2 bushel cartons       15.0        18.0     10        282  33.000\n"
     ]
    }
   ],
   "source": [
    "# 根据Package称量单位换算价格Price，转化为每bushel的价格（标准化）\n",
    "# 1 1/9 bushel cartons => Price = Price/(1 + 1/9)\n",
    "data.loc[data['Package'].str.contains('1 1/9'), 'Price'] = data['Price']/(1 + 1/9)\n",
    "# 1/2 bushel cartons => Price = Price/(1/2)\n",
    "data.loc[data['Package'].str.contains('1/2'), 'Price'] = data['Price']/(1/2)\n",
    "print(data.head(30).to_string())"
   ]
  },
  {
   "cell_type": "code",
   "execution_count": 10,
   "id": "38bc56ba",
   "metadata": {},
   "outputs": [
    {
     "name": "stdout",
     "output_type": "stream",
     "text": [
      "415\n",
      "415\n",
      "   Month  DayOfYear  City Name   Variety               Package  Price\n",
      "0      9        268  BALTIMORE  PIE TYPE  1 1/9 bushel cartons   13.5\n",
      "1      9        268  BALTIMORE  PIE TYPE  1 1/9 bushel cartons   16.2\n",
      "2     10        275  BALTIMORE  PIE TYPE  1 1/9 bushel cartons   16.2\n",
      "3     10        275  BALTIMORE  PIE TYPE  1 1/9 bushel cartons   15.3\n",
      "4     10        282  BALTIMORE  PIE TYPE  1 1/9 bushel cartons   13.5\n"
     ]
    }
   ],
   "source": [
    "# 7.数据整理\n",
    "# 将整理的数据放到新的DataFrame中\n",
    "new_features = ['Month', 'DayOfYear', 'City Name', 'Variety', 'Package', 'Price']\n",
    "new_pumpkins = data[new_features].reset_index(drop='index')\n",
    "print(len(new_pumpkins))    # 共415条数据\n",
    "\n",
    "# 删除包含空值的行\n",
    "new_pumpkins.dropna(inplace=True)\n",
    "print(len(new_pumpkins))    # 415\n",
    "print(new_pumpkins.head().to_string())"
   ]
  },
  {
   "cell_type": "code",
   "execution_count": 11,
   "id": "aae80676",
   "metadata": {},
   "outputs": [
    {
     "data": {
      "image/png": "[encoded data removed]",
      "text/plain": [
       "<Figure size 640x480 with 1 Axes>"
      ]
     },
     "metadata": {},
     "output_type": "display_data"
    }
   ],
   "source": [
    "# 8.1 绘制每个月南瓜的平均价格柱状图\n",
    "new_pumpkins.groupby(by='Month')['Price'].mean().plot(kind='bar')\n",
    "plt.ylabel('Price')\n",
    "plt.show()"
   ]
  },
  {
   "cell_type": "code",
   "execution_count": 12,
   "id": "bf583a9d",
   "metadata": {},
   "outputs": [
    {
     "data": {
      "image/png": "[encoded data removed]",
      "text/plain": [
       "<Figure size 640x480 with 1 Axes>"
      ]
     },
     "metadata": {},
     "output_type": "display_data"
    }
   ],
   "source": [
    "# 8.2 绘制每个城市的南瓜平均价格柱状图\n",
    "new_pumpkins.groupby(by='City Name')['Price'].mean().plot(kind='bar')\n",
    "plt.xticks(rotation=30, ha='center')\n",
    "plt.ylabel('Price')\n",
    "plt.show()"
   ]
  },
  {
   "cell_type": "code",
   "execution_count": 13,
   "id": "2eed9b68",
   "metadata": {},
   "outputs": [
    {
     "data": {
      "image/png": "[encoded data removed]",
      "text/plain": [
       "<Figure size 640x480 with 1 Axes>"
      ]
     },
     "metadata": {},
     "output_type": "display_data"
    }
   ],
   "source": [
    "# 8.3 绘制不同品种的南瓜平均价格柱状图\n",
    "new_pumpkins.groupby(by='Variety')['Price'].mean().plot(kind='bar')\n",
    "plt.xticks(rotation=30, ha='center')\n",
    "plt.ylabel('Price')\n",
    "plt.show()"
   ]
  },
  {
   "cell_type": "code",
   "execution_count": 14,
   "id": "5bbb3891",
   "metadata": {},
   "outputs": [
    {
     "data": {
      "image/png": "[encoded data removed]",
      "text/plain": [
       "<Figure size 640x480 with 1 Axes>"
      ]
     },
     "metadata": {},
     "output_type": "display_data"
    }
   ],
   "source": [
    "# 8.4 绘制不同包装的南瓜平均价格柱状图\n",
    "new_pumpkins.groupby(by='Package')['Price'].mean().plot(kind='bar')\n",
    "plt.xticks(rotation=30, ha='center')\n",
    "plt.ylabel('Price')\n",
    "plt.show()"
   ]
  },
  {
   "cell_type": "code",
   "execution_count": 15,
   "id": "21ec83db",
   "metadata": {},
   "outputs": [
    {
     "data": {
      "image/png": "[encoded data removed]",
      "text/plain": [
       "<Figure size 640x480 with 1 Axes>"
      ]
     },
     "metadata": {},
     "output_type": "display_data"
    }
   ],
   "source": [
    "# 8.5 销售日期与价格散点图\n",
    "plt.scatter('DayOfYear', 'Price', data=new_pumpkins)\n",
    "plt.xlabel('DayOfYear')\n",
    "plt.ylabel('Price')\n",
    "plt.show()"
   ]
  },
  {
   "cell_type": "code",
   "execution_count": 16,
   "id": "98d9fca0",
   "metadata": {},
   "outputs": [
    {
     "data": {
      "image/png": "[encoded data removed]",
      "text/plain": [
       "<Figure size 1000x600 with 1 Axes>"
      ]
     },
     "metadata": {},
     "output_type": "display_data"
    }
   ],
   "source": [
    "# 8.6 销售日期与价格的散点图，按品种分组着色\n",
    "# 设置图形大小\n",
    "plt.figure(figsize=(10, 6))\n",
    "\n",
    "# 创建颜色映射（确保品种顺序与颜色匹配）\n",
    "unique_varieties = new_pumpkins['Variety'].unique()\n",
    "palette = {variety: color for variety, color in zip(unique_varieties, ['red', 'blue', 'green', 'yellow'])}\n",
    "\n",
    "# 使用Seaborn绘制散点图\n",
    "ax = sns.scatterplot(\n",
    "    data=new_pumpkins,\n",
    "    x='DayOfYear',\n",
    "    y='Price',\n",
    "    hue='Variety',          # 按品种分组着色\n",
    "    palette=palette,        # 自定义颜色映射\n",
    "    edgecolor='none',       # 移除点边缘线（可选）\n",
    "    s=60,                   # 调整点大小（可选）\n",
    ")\n",
    "\n",
    "# 调整图例位置和标题\n",
    "ax.legend(title='Variety', loc='best')\n",
    "plt.show()"
   ]
  },
  {
   "cell_type": "code",
   "execution_count": 17,
   "id": "bf1acbc6",
   "metadata": {},
   "outputs": [
    {
     "name": "stdout",
     "output_type": "stream",
     "text": [
      "回归系数： [-0.06874322]\n",
      "截距： 47.549980446363556\n",
      "MSE: 113.62754126951441 RMSE: 10.659622004063484\n",
      "相关系数： 0.03393110408015798\n"
     ]
    },
    {
     "data": {
      "image/png": "[encoded data removed]",
      "text/plain": [
       "<Figure size 640x480 with 1 Axes>"
      ]
     },
     "metadata": {},
     "output_type": "display_data"
    }
   ],
   "source": [
    "# 9.1 简单线性回归实践\n",
    "from sklearn.linear_model import LinearRegression\n",
    "from sklearn.metrics import mean_squared_error\n",
    "from sklearn.model_selection import train_test_split\n",
    "\n",
    "# 销售日期-南瓜价格\n",
    "# 数据格式转换：将输入值（特征变量）和预期的输出值（预测标签）分离到单独的numpy数组中：\n",
    "X = new_pumpkins['DayOfYear'].to_numpy().reshape(-1, 1)\n",
    "y = new_pumpkins['Price']\n",
    "\n",
    "# 划分数据集：将数据集拆分为训练集和测试集，以便在训练后验证模型\n",
    "X_train, X_test, y_train, y_test = train_test_split(X, y, test_size=0.2, random_state=0)\n",
    "\n",
    "# 训练模型\n",
    "# 线性回归训练器\n",
    "lr = LinearRegression()\n",
    "# 训练线性回归模型\n",
    "lr.fit(X_train, y_train)\n",
    "\n",
    "# 回归系数\n",
    "print(\"回归系数：\", lr.coef_)         # [-0.06874322]\n",
    "# 截距\n",
    "print(\"截距：\", lr.intercept_)    # 47.549980446363556\n",
    "\n",
    "# 模型评估\n",
    "y_pred = lr.predict(X_test)\n",
    "# 计算MSE和RMSE指标\n",
    "mse = mean_squared_error(y_test, y_pred)\n",
    "rmse = np.sqrt(mse)\n",
    "print(\"MSE:\", mse, \"RMSE:\", rmse)    # 113.62754126951441  10.659622004063484\n",
    "# 计算相关系数\n",
    "score = lr.score(X_test, y_test)\n",
    "print(\"相关系数：\", score)        # 0.03393110408015798\n",
    "# 线性回归可视化\n",
    "plt.scatter(X_test, y_test)\n",
    "plt.plot(X_test, y_pred, color='red')\n",
    "plt.show()"
   ]
  },
  {
   "cell_type": "code",
   "execution_count": 18,
   "id": "5a99d7fb",
   "metadata": {},
   "outputs": [
    {
     "name": "stdout",
     "output_type": "stream",
     "text": [
      "MSE: 27.621753576504613 RMSE: 5.255640168096044\n",
      "相关系数： 0.765158018180377\n"
     ]
    }
   ],
   "source": [
    "# 9.2 南瓜种类-南瓜价格\n",
    "\n",
    "# 以南瓜的类别作为特征变量，并转化数值类型\n",
    "# 将南瓜数据被分为4类，每类包含415个样本\n",
    "X = pd.get_dummies(new_pumpkins['Variety'])\n",
    "# print(X.info())\n",
    "y = new_pumpkins['Price']\n",
    "\n",
    "# 以8:2的比例划分训练集与测试集\n",
    "X_train, X_test, y_train, y_test = train_test_split(X, y, test_size=0.2, random_state=0)\n",
    "\n",
    "# 训练模型\n",
    "# 线性回归训练器\n",
    "lr = LinearRegression()\n",
    "# 训练线性回归模型\n",
    "lr.fit(X_train, y_train)\n",
    "# 将测试集上的预测\n",
    "y_pred = lr.predict(X_test)\n",
    "\n",
    "# 模型评估\n",
    "# 计算MSE和RMSE指标\n",
    "mse = mean_squared_error(y_test, y_pred)\n",
    "rmse = np.sqrt(mse)\n",
    "print(\"MSE:\", mse, \"RMSE:\", rmse)    # 27.621753576504613  5.255640168096044\n",
    "# 计算相关系数\n",
    "score = lr.score(X_test, y_test)\n",
    "print(\"相关系数：\", score)        # 0.765158018180377"
   ]
  },
  {
   "cell_type": "code",
   "execution_count": 19,
   "id": "2c04744f",
   "metadata": {},
   "outputs": [
    {
     "name": "stdout",
     "output_type": "stream",
     "text": [
      "MSE: 113.21565590044068 RMSE: 10.640284577981957\n",
      "相关系数： 0.03743298081973112\n"
     ]
    },
    {
     "data": {
      "image/png": "[encoded data removed]",
      "text/plain": [
       "<Figure size 640x480 with 1 Axes>"
      ]
     },
     "metadata": {},
     "output_type": "display_data"
    }
   ],
   "source": [
    "# 10.1 多项式回归实践\n",
    "from sklearn.preprocessing import PolynomialFeatures\n",
    "from sklearn.pipeline import make_pipeline\n",
    "\n",
    "# 销售日期-南瓜价格\n",
    "\n",
    "X = new_pumpkins['DayOfYear'].to_numpy().reshape(-1, 1)\n",
    "y = new_pumpkins['Price']\n",
    "\n",
    "# 以8:2的比例划分数据集与训练集\n",
    "X_train, X_test, y_train, y_test = train_test_split(X, y, test_size=0.2, random_state=0)\n",
    "\n",
    "# 构建自动化流程，其中PolynomialFeatures(2)是对输入数据进行2次多项式拟合，后者为构建线性回归模型\n",
    "pipe = make_pipeline(PolynomialFeatures(2), LinearRegression())\n",
    "# 训练模型\n",
    "pipe.fit(X_train, y_train)\n",
    "# 在测试集上预测\n",
    "y_pred = pipe.predict(X_test)\n",
    "\n",
    "# 模型评估\n",
    "# 计算MSE和RMSE指标\n",
    "mse = mean_squared_error(y_test, y_pred)\n",
    "rmse = np.sqrt(mse)\n",
    "print(\"MSE:\", mse, \"RMSE:\", rmse)       # 113.21565590044068 10.640284577981957\n",
    "# 计算相关系数\n",
    "score = pipe.score(X_test, y_test)\n",
    "print(\"相关系数：\", score)        # 0.03743298081973112\n",
    "# 线性回归可视化\n",
    "plt.scatter(X_test, y_test)\n",
    "plt.plot(np.sort(X_test), y_pred[np.argsort(X_test)], color='red')\n",
    "plt.show()"
   ]
  },
  {
   "cell_type": "code",
   "execution_count": 20,
   "id": "6c8a85ed",
   "metadata": {},
   "outputs": [
    {
     "name": "stdout",
     "output_type": "stream",
     "text": [
      "MSE: 27.621753576504588 RMSE: 5.255640168096042\n",
      "相关系数： 0.7651580181803773\n"
     ]
    }
   ],
   "source": [
    "# 10.2 南瓜种类-南瓜价格\n",
    "\n",
    "X = pd.get_dummies(new_pumpkins['Variety'])\n",
    "y = new_pumpkins['Price']\n",
    "\n",
    "# 以8：2的比例划分训练集与测试集\n",
    "X_train, X_test, y_train, y_test = train_test_split(X, y, test_size=0.2, random_state=0)\n",
    "\n",
    "# 构建自动化流程，其中PolynomialFeatures(2)是对输入数据进行2次多项式拟合，后者为构建线性回归模型\n",
    "pipe = make_pipeline(PolynomialFeatures(2), LinearRegression())\n",
    "# 训练模型\n",
    "pipe.fit(X_train, y_train)\n",
    "# 在测试集上预测\n",
    "y_pred = pipe.predict(X_test)\n",
    "\n",
    "# 模型评估\n",
    "# 计算MSE和RMSE指标\n",
    "mse = mean_squared_error(y_test, y_pred)\n",
    "rmse = np.sqrt(mse)\n",
    "print(\"MSE:\", mse, \"RMSE:\", rmse)       # 27.621753576504588   5.255640168096042\n",
    "# 计算相关系数\n",
    "score = pipe.score(X_test, y_test)\n",
    "print(\"相关系数：\", score)        # 0.7651580181803773"
   ]
  },
  {
   "cell_type": "code",
   "execution_count": null,
   "id": "8c4cd067",
   "metadata": {},
   "outputs": [
    {
     "name": "stdout",
     "output_type": "stream",
     "text": [
      "MSE: 8.139721848221221 RMSE: 2.853019777046984\n",
      "相关系数： 0.9307955447143392\n"
     ]
    }
   ],
   "source": [
    "# 11.1 多元线性回归实践\n",
    "# 整合多个因子（使用南瓜种类、销售日期、销售地区、称量单位四个一阶特征拟合南瓜价格）\n",
    "X = pd.get_dummies(new_pumpkins['Variety']).join(new_pumpkins['DayOfYear']).join(pd.get_dummies(new_pumpkins['City Name'])).join(pd.get_dummies(new_pumpkins['Package']))\n",
    "y = new_pumpkins['Price']\n",
    "\n",
    "# 划分数据集\n",
    "X_train, X_test, y_train, y_test = train_test_split(X, y, test_size=0.2, random_state=0)\n",
    "\n",
    "# 训练模型\n",
    "lr = LinearRegression()\n",
    "lr.fit(X_train, y_train)\n",
    "# 在测试集上预测\n",
    "y_pred = lr.predict(X_test)\n",
    "\n",
    "# 模型评估\n",
    "# 计算MSE和RMSE指标\n",
    "mse = mean_squared_error(y_test, y_pred)\n",
    "rmse = np.sqrt(mse)\n",
    "print(\"MSE:\", mse, \"RMSE:\", rmse)     # 8.139721848221221  2.8530197770469844\n",
    "# 计算相关系数\n",
    "score = lr.score(X_test, y_test)\n",
    "print(\"相关系数：\", score)        # 0.9307955447143392"
   ]
  },
  {
   "cell_type": "code",
   "execution_count": null,
   "id": "ee2e79a2",
   "metadata": {},
   "outputs": [
    {
     "name": "stdout",
     "output_type": "stream",
     "text": [
      "MSE: 4.668807400205255 RMSE: 2.160742326193768\n",
      "相关系数： 0.960305489672786\n"
     ]
    }
   ],
   "source": [
    "# 11.2 多元线性回归（多项式）\n",
    "# 使用南瓜种类、月份、销售地区、称量单位四个高阶特征拟合南瓜价格\n",
    "X = pd.get_dummies(new_pumpkins['Variety']).join(new_pumpkins['Month']).join(pd.get_dummies(new_pumpkins['City Name'])).join(pd.get_dummies(new_pumpkins['Package']))\n",
    "y = new_pumpkins['Price']\n",
    "\n",
    "# 划分数据集\n",
    "X_train, X_test, y_train, y_test = train_test_split(X, y, test_size=0.2, random_state=0)\n",
    "\n",
    "# 构建自动化流程，其中PolynomialFeatures(3)是对输入数据进行3次多项式拟合，后者为构建线性回归模型\n",
    "pipe = make_pipeline(PolynomialFeatures(3), LinearRegression())\n",
    "# 训练模型\n",
    "pipe.fit(X_train, y_train)\n",
    "# 在测试集上预测\n",
    "y_pred = pipe.predict(X_test)\n",
    "\n",
    "# 模型评估\n",
    "# 计算MSE和RMSE指标\n",
    "mse = mean_squared_error(y_test, y_pred)\n",
    "rmse = np.sqrt(mse)\n",
    "print(\"MSE:\", mse, \"RMSE:\", rmse)     # 4.668807400205255  2.160742326193768\n",
    "# 计算相关系数\n",
    "score = pipe.score(X_test, y_test)\n",
    "print(\"相关系数：\", score)       # 0.960305489672786"
   ]
  }
 ],
 "metadata": {
  "kernelspec": {
   "display_name": "pythonProject",
   "language": "python",
   "name": "python3"
  },
  "language_info": {
   "codemirror_mode": {
    "name": "ipython",
    "version": 3
   },
   "file_extension": ".py",
   "mimetype": "text/x-python",
   "name": "python",
   "nbconvert_exporter": "python",
   "pygments_lexer": "ipython3",
   "version": "3.10.7"
  }
 },
 "nbformat": 4,
 "nbformat_minor": 5
}
